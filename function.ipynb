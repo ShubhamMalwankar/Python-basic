{
  "nbformat": 4,
  "nbformat_minor": 0,
  "metadata": {
    "colab": {
      "provenance": []
    },
    "kernelspec": {
      "name": "python3",
      "display_name": "Python 3"
    },
    "language_info": {
      "name": "python"
    }
  },
  "cells": [
    {
      "cell_type": "code",
      "execution_count": null,
      "metadata": {
        "id": "b9DPAcVSZBiI"
      },
      "outputs": [],
      "source": []
    },
    {
      "cell_type": "markdown",
      "source": [
        "1. What is the difference between a function and a method in Python?\n",
        "  - A function is an independent block of code, while a method is a function that belongs to an object and operates on its data.\n",
        "2. Explain the concept of function arguments and parameters in Python?\n",
        "   - In Python Parameters are the variables listed in a function definition — they act like placeholders for input values. Arguments are the actual values you pass to the function when calling it, which get assigned to the parameters\n",
        "3. What are the different ways to define and call a function in Python?\n",
        "   - ou can define and call functions in Python using normal functions, lambda functions, or default/ keyword/ variable-length arguments etc.\n",
        "4. What is the purpose of the `return` statement in a Python function?\n",
        "   - The return statement in Python is used to send a value or multiple values from a function back to the caller, ending the function’s execution.\n",
        "5. What are iterators in Python and how do they differ from iterables?\n",
        "   - An iterator is an object with __iter__() and __next__() methods that returns items one at a time, while an iterable is any object you can get an iterator from (like lists, strings, or sets).\n",
        "6. Explain the concept of generators in Python and how they are defined.         \n",
        "   - A generator in Python is a special type of function that produces a sequence of values lazily one at a time, on demand instead of storing them all in memory at once.\n",
        "   They are defined like normal functions, but use the yield keyword instead of return.\n",
        "7. What are the advantages of using generators over regular functions?\n",
        "   - Generators are more memory-efficient and faster for large data because they yield values lazily instead of storing the whole result in memory.\n",
        "8. What is a lambda function in Python and when is it typically used?\n",
        "   - A lambda function in Python is a small, anonymous function defined with the lambda keyword, typically used for short, throwaway operations where a full def function would be unnecessary.\n",
        "9. Explain the purpose and usage of the `map()` function in Python.\n",
        "   - The map() function in Python applies a given function to each item of an iterable like a list or tuple and returns a map object which is an iterator containing the results.   \n",
        "10. What is the difference between `map()`, `reduce()`, and `filter()` functions in Python?\n",
        "   - In Python, map(), reduce(), and filter() are functional programming tools, but they serve different purposes:\n",
        "   1) map() applies a function to every element of an iterable and returns an iterator with the transformed results.\n",
        "   2) filter() applies a function that returns True or False to each element, keeping only those that satisfy the condition.\n",
        "   3) reduce() (from functools) repeatedly applies a function to pairs of elements, reducing the iterable to a single cumulative value.  \n",
        "11. Using pen & Paper write the internal mechanism for sum operation using  reduce function on this given list:[47,11,42,13].\n",
        "     "
      ],
      "metadata": {
        "id": "RhUfh2EHZCxT"
      }
    },
    {
      "cell_type": "code",
      "source": [
        "# Write a Python function that takes a list of numbers as input and returns the sum of all even numbers in the list.\n",
        "\n",
        "\n",
        "def sum_of_even(numbers):\n",
        "    return sum(num for num in numbers if num % 2 == 0 )\n",
        "\n",
        "nums = [1, 2, 3, 4]\n",
        "print(sum_of_even(nums))\n",
        "\n"
      ],
      "metadata": {
        "colab": {
          "base_uri": "https://localhost:8080/"
        },
        "id": "7X1QT-y9eOOi",
        "outputId": "e082a616-7cb7-42a6-b61d-7ed4c4806d99"
      },
      "execution_count": 8,
      "outputs": [
        {
          "output_type": "stream",
          "name": "stdout",
          "text": [
            "6\n"
          ]
        }
      ]
    },
    {
      "cell_type": "code",
      "source": [
        "# Create a Python function that accepts a string and returns the reverse of that string.\n",
        "\n",
        "def reverse_string(s):\n",
        "     return s[::-1]\n",
        "\n",
        "text = \"Python\"\n",
        "print(reverse_string(text))"
      ],
      "metadata": {
        "colab": {
          "base_uri": "https://localhost:8080/"
        },
        "id": "S8RXIjYCf3qx",
        "outputId": "02e786f3-aceb-4488-bed8-bb0267a48ade"
      },
      "execution_count": 12,
      "outputs": [
        {
          "output_type": "stream",
          "name": "stdout",
          "text": [
            "nohtyP\n"
          ]
        }
      ]
    },
    {
      "cell_type": "code",
      "source": [
        "# Implement a Python function that takes a list of integers and returns a new list containing the squares of each number.\n",
        "def square_list(n):\n",
        "    return(num**2 for num in number)\n",
        "\n",
        "number = [1, 2, 3]\n",
        "print(list(square_list(number)))"
      ],
      "metadata": {
        "colab": {
          "base_uri": "https://localhost:8080/"
        },
        "id": "flY58KBehEbn",
        "outputId": "6fd3dcab-ff41-48cc-ff56-7332406fc14f"
      },
      "execution_count": 14,
      "outputs": [
        {
          "output_type": "stream",
          "name": "stdout",
          "text": [
            "[1, 4, 9]\n"
          ]
        }
      ]
    },
    {
      "cell_type": "code",
      "source": [
        "# Write a Python function that checks if a given number is prime or not from 1 to 200.\n"
      ],
      "metadata": {
        "id": "hf6lMGakiH_q"
      },
      "execution_count": null,
      "outputs": []
    },
    {
      "cell_type": "code",
      "source": [
        "# Create an iterator class in Python that generates the Fibonacci sequence up to a specified number of terms.\n"
      ],
      "metadata": {
        "id": "nxeoYW33ikDL"
      },
      "execution_count": 16,
      "outputs": []
    },
    {
      "cell_type": "code",
      "source": [
        "# Write a generator function in Python that yields the powers of 2 up to a given exponent.\n",
        "def powers_of_two(max_exp):\n",
        "    for exp in range(max_exp + 1):\n",
        "        yield 2 ** exp\n",
        "\n",
        "for val in powers_of_two(5):\n",
        "    print(val, end=\" \")\n"
      ],
      "metadata": {
        "colab": {
          "base_uri": "https://localhost:8080/"
        },
        "id": "w8NzQKZfjlZ8",
        "outputId": "9c380b5c-3ad1-4d70-acf2-c2e5f4f9e7cc"
      },
      "execution_count": 17,
      "outputs": [
        {
          "output_type": "stream",
          "name": "stdout",
          "text": [
            "1 2 4 8 16 32 "
          ]
        }
      ]
    },
    {
      "cell_type": "code",
      "source": [
        "#  Implement a generator function that reads a file line by line and yields each line as a string\n",
        "\n"
      ],
      "metadata": {
        "id": "3TVaaCdTkHw0"
      },
      "execution_count": 20,
      "outputs": []
    },
    {
      "cell_type": "code",
      "source": [
        "# Use a lambda function in Python to sort a list of tuples based on the second element of each tuple\n",
        "data = [(1, 4), (3, 1), (5, 2), (2, 3)]\n",
        "sorted_data = sorted(data, key=lambda x: x[1])\n",
        "print(sorted_data)"
      ],
      "metadata": {
        "colab": {
          "base_uri": "https://localhost:8080/"
        },
        "id": "T0em_U_1ktRS",
        "outputId": "4ea53246-fe80-4659-a2a7-0a824a9d0413"
      },
      "execution_count": 21,
      "outputs": [
        {
          "output_type": "stream",
          "name": "stdout",
          "text": [
            "[(3, 1), (5, 2), (2, 3), (1, 4)]\n"
          ]
        }
      ]
    },
    {
      "cell_type": "code",
      "source": [
        "# Write a Python program that uses `map()` to convert a list of temperatures from Celsius to Fahrenheit\n",
        "celsius = [0, 13, 36]\n",
        "fahrenheit = list(map(lambda c: (c * 9/5) + 32, celsius))\n",
        "\n",
        "print(fahrenheit)"
      ],
      "metadata": {
        "colab": {
          "base_uri": "https://localhost:8080/"
        },
        "id": "ToogVJunlEl6",
        "outputId": "34b9aa7d-9635-4097-cf2e-132cc63691c4"
      },
      "execution_count": 22,
      "outputs": [
        {
          "output_type": "stream",
          "name": "stdout",
          "text": [
            "[32.0, 55.4, 96.8]\n"
          ]
        }
      ]
    },
    {
      "cell_type": "code",
      "source": [
        "#  Create a Python program that uses `filter()` to remove all the vowels from a given string\n",
        "text = \"Hello World\"\n",
        "for ch in filter(lambda c: c.lower() not in 'aeiou', text):\n",
        "    print(ch, end=\"\")"
      ],
      "metadata": {
        "colab": {
          "base_uri": "https://localhost:8080/"
        },
        "id": "bnG9U_CSleq2",
        "outputId": "f95c5660-a3a0-49c4-f378-cad7e642238b"
      },
      "execution_count": 23,
      "outputs": [
        {
          "output_type": "stream",
          "name": "stdout",
          "text": [
            "Hll Wrld"
          ]
        }
      ]
    },
    {
      "cell_type": "code",
      "source": [],
      "metadata": {
        "id": "0g8rjUhUmCeF"
      },
      "execution_count": null,
      "outputs": []
    }
  ]
}