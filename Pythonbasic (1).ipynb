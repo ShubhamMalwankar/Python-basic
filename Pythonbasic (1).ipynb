{
  "nbformat": 4,
  "nbformat_minor": 0,
  "metadata": {
    "colab": {
      "provenance": []
    },
    "kernelspec": {
      "name": "python3",
      "display_name": "Python 3"
    },
    "language_info": {
      "name": "python"
    }
  },
  "cells": [
    {
      "cell_type": "markdown",
      "source": [],
      "metadata": {
        "id": "19Vq8Hab6Atg"
      }
    },
    {
      "cell_type": "markdown",
      "source": [
        "# Python basic\n"
      ],
      "metadata": {
        "id": "tIBES1O56FAl"
      }
    },
    {
      "cell_type": "markdown",
      "source": [
        "1. What is Python, and why is it popular ?\n",
        "   - Python is a intepreted programmig language and it simplifie the Human to Computor communication.\n",
        "   - It is popular because of its simple and readable syntex also it requires fewer lines of code to perform the common tasks.\n",
        "2.  What is an interpreter in Python ?\n",
        "   - An interpreter in Python is a program that reads and executes python code line by line.\n",
        "3. What are pre-defined keywords in Python?\n",
        "   - Here are some pre defined key words in python\n",
        "     if, else, elif, for, while, break, continue etc these predefined keywords are reserved words that have special meaning in python.\n",
        "4. Can keywords be used as variable names?\n",
        "   - No. You can not use keywords as variable names.\n",
        "5. What is mutability in Python?\n",
        "   - Mutability in python refers to whether an object's value can be changed after it is created.\n",
        "6. Why are lists mutable, but tuples are immutable?\n",
        "   - It is because Lists are used for dynamic data situations where the data might change during the progrm. On the other hand tuples are used when you want toensure data remains constant.\n",
        "7. What is the difference between “==” and “is” operators in Python?\n",
        "   - '==' is an equality operator which checks if objects have same value.\n",
        "   - 'is' is an Identity operator which checks both variables point to the same object in memory.\n",
        "8. What are logical operators in Python?\n",
        "   - Logical operators in python are 'and', 'or', 'not'.\n",
        "9. What is type casting in Python?\n",
        "   - Type casting in python is a process of converting a value from one data type to another. eg. string to integer or float to string.\n",
        "10. What is the difference between implicit and explicit type casting ?\n",
        "  - In implicit type casting python automatically converts one data type to another without your intervention.\n",
        "  - In explicit type casting you have to manually convert one type to another using built in functions.\n",
        "11. What is the purpose of conditional statements in Python?\n",
        "    - The purpose of conditional statements in python is to execute certain blocks of code only when specific conditions are met.\n",
        "12. How does the elif statement work?\n",
        "    - Elif statement checks another condition if previous one is False.\n",
        "13. What is the difference between for and while loops?\n",
        "    - 'for' loop is used when you know how many times you want to iterate.\n",
        "    - 'while' loop is used when the condition is based on logic and you don't know how many times it will run.\n",
        "14. Describe a scenario where a while loop is more suitable than a for loop?\n",
        "    - A while loop is more suitable than a for loop when you don't know in advance how many times the loop needs to run.                          \n",
        "     "
      ],
      "metadata": {
        "id": "azJFit_X5mTQ"
      }
    },
    {
      "cell_type": "code",
      "execution_count": 4,
      "metadata": {
        "colab": {
          "base_uri": "https://localhost:8080/"
        },
        "id": "cJ5Y92765bQp",
        "outputId": "10f1aae2-c79a-4fd6-a9c1-6ffabecaa724"
      },
      "outputs": [
        {
          "output_type": "stream",
          "name": "stdout",
          "text": [
            "Hello, World!\n"
          ]
        }
      ],
      "source": [
        "# Write a Python program to print \"Hello, World!\"\n",
        "...\n",
        "print(\"Hello, World!\")\n",
        "...\n"
      ]
    },
    {
      "cell_type": "code",
      "source": [
        "# Write a Python program that displays your name and age.\n",
        "...\n",
        "name = \"Shubham Malwankar\"\n",
        "age = 25\n",
        "\n",
        "print(\"Name:\", name)\n",
        "print(\"Age:\", age)\n",
        "..."
      ],
      "metadata": {
        "colab": {
          "base_uri": "https://localhost:8080/"
        },
        "id": "ORp2Ly1nGjEM",
        "outputId": "e965cd54-c856-4d5f-864d-26e44a71a185"
      },
      "execution_count": 8,
      "outputs": [
        {
          "output_type": "stream",
          "name": "stdout",
          "text": [
            "Name: Shubham Malwankar\n",
            "Age: 25\n"
          ]
        }
      ]
    },
    {
      "cell_type": "code",
      "source": [
        "# Write code to print all the pre-defined keywords in Python using the keyword library.\n",
        "...\n",
        "import keyword\n",
        "print(\"List of Python keywords:\")\n",
        "for kw in keyword.kwlist:\n",
        "    print(kw)\n",
        "..."
      ],
      "metadata": {
        "colab": {
          "base_uri": "https://localhost:8080/"
        },
        "id": "SYZY9cfDH2hz",
        "outputId": "1661495c-8d77-48ad-eccf-fbb4bf5e18d3"
      },
      "execution_count": 14,
      "outputs": [
        {
          "output_type": "stream",
          "name": "stdout",
          "text": [
            "List of Python keywords:\n",
            "False\n",
            "None\n",
            "True\n",
            "and\n",
            "as\n",
            "assert\n",
            "async\n",
            "await\n",
            "break\n",
            "class\n",
            "continue\n",
            "def\n",
            "del\n",
            "elif\n",
            "else\n",
            "except\n",
            "finally\n",
            "for\n",
            "from\n",
            "global\n",
            "if\n",
            "import\n",
            "in\n",
            "is\n",
            "lambda\n",
            "nonlocal\n",
            "not\n",
            "or\n",
            "pass\n",
            "raise\n",
            "return\n",
            "try\n",
            "while\n",
            "with\n",
            "yield\n"
          ]
        }
      ]
    },
    {
      "cell_type": "code",
      "source": [
        "# Write a program that checks if a given word is a Python keyword.\n",
        "...\n",
        "import keyword\n",
        "word = input(\"Enter a word:\")\n",
        "if keyword.iskeyword (word):\n",
        "   print(\"(word) is a python keyword.\")\n",
        "else:\n",
        "  print(\"(word) is Not a python keyword.\")\n",
        "...\n",
        "\n"
      ],
      "metadata": {
        "colab": {
          "base_uri": "https://localhost:8080/"
        },
        "id": "IDl74DmCJAVY",
        "outputId": "7f92c2d8-0e3f-4d2d-ed02-3ff4c65d9fb3"
      },
      "execution_count": 18,
      "outputs": [
        {
          "output_type": "stream",
          "name": "stdout",
          "text": [
            "Enter a word:hello\n",
            "(word) is Not a python keyword.\n"
          ]
        }
      ]
    },
    {
      "cell_type": "code",
      "source": [
        "# Create a list and tuple in Python, and demonstrate how attempting to change an element works differently for each.\n",
        "...\n",
        "\n",
        "my_list = [10, 20, 30, 40]\n",
        "print(\"Original list:\", my_list)\n",
        "\n",
        "my_list[1] = 25\n",
        "print(\"Modified list:\", my_list)\n",
        "\n",
        "my_tuple = (10, 20, 30, 40)\n",
        "print(\"Original tuple:\", my_tuple)\n",
        "\n",
        "\n",
        "try:\n",
        "    my_tuple[1] = 25\n",
        "except TypeError as e:\n",
        "    print(\"Error:\", e)\n",
        "..."
      ],
      "metadata": {
        "colab": {
          "base_uri": "https://localhost:8080/"
        },
        "id": "ZPtBtRzwNniu",
        "outputId": "70ea8b67-b347-4ac0-b57a-76cde2bf1570"
      },
      "execution_count": 37,
      "outputs": [
        {
          "output_type": "stream",
          "name": "stdout",
          "text": [
            "Original list: [10, 20, 30, 40]\n",
            "Modified list: [10, 25, 30, 40]\n",
            "Original tuple: (10, 20, 30, 40)\n",
            "Error: 'tuple' object does not support item assignment\n"
          ]
        }
      ]
    },
    {
      "cell_type": "code",
      "source": [
        "#  Write a function to demonstrate the behavior of mutable and immutable arguments.\n"
      ],
      "metadata": {
        "id": "C_xH_S-wPi1P"
      },
      "execution_count": null,
      "outputs": []
    },
    {
      "cell_type": "code",
      "source": [
        "# Write a program that performs basic arithmetic operations on two user-input numbers.\n",
        "\n",
        "...\n",
        "num1 = float(input(\"Enter first number: \"))\n",
        "num2 = float(input(\"Enter second number: \"))\n",
        "\n",
        "print(\"Results:\")\n",
        "print(\"Addition:\", num1 + num2)\n",
        "print(\"Subtraction:\", num1 - num2)\n",
        "print(\"Multiplication:\", num1 * num2)\n",
        "if num2 != 0:\n",
        "    print(\"Division:\", num1 / num2)\n",
        "else:\n",
        "    print(\"Division: Cannot divide by zero\")\n",
        "..."
      ],
      "metadata": {
        "colab": {
          "base_uri": "https://localhost:8080/"
        },
        "id": "Wrm_0i4IQOZT",
        "outputId": "8adb6d2a-8936-4f12-d6b2-ccc2c839f658"
      },
      "execution_count": 21,
      "outputs": [
        {
          "output_type": "stream",
          "name": "stdout",
          "text": [
            "Enter first number: 5\n",
            "Enter second number: 2\n",
            "Results:\n",
            "Addition: 7.0\n",
            "Subtraction: 3.0\n",
            "Multiplication: 10.0\n",
            "Division: 2.5\n"
          ]
        }
      ]
    },
    {
      "cell_type": "code",
      "source": [
        "# Write a program to demonstrate the use of logical operators.\n",
        "...\n",
        "age= int(input(\"Enter your age: \"))\n",
        "has_id = input(\"Do you have an ID? (yes/no):\"). lower()\n",
        "print(\"Using logical operators:\")\n",
        "if age >= 18 and has_id == \"yes\":\n",
        "  print(\"You are allowed.\")\n",
        "else:\n",
        "  print(\"Entry denied.\")\n",
        "\n",
        "if age >= 18 or has_id == \"yes\":\n",
        "  print(\"Considered for entry,\")\n",
        "\n",
        "if not age<18:\n",
        "  print(\"You are not underage.\")\n",
        "else:\n",
        "  print(\"You are underage.\")\n",
        "..."
      ],
      "metadata": {
        "colab": {
          "base_uri": "https://localhost:8080/"
        },
        "id": "IBo3BJ1xRsIs",
        "outputId": "8adbe8ac-5a3f-4789-c69c-6265fc43f163"
      },
      "execution_count": 23,
      "outputs": [
        {
          "output_type": "stream",
          "name": "stdout",
          "text": [
            "Enter your age: 25\n",
            "Do you have an ID? (yes/no):no\n",
            "Using logical operators:\n",
            "Entry denied.\n",
            "Considered for entry,\n",
            "You are not underage.\n"
          ]
        }
      ]
    },
    {
      "cell_type": "code",
      "source": [
        "# Write a Python program to convert user input from string to integer, float, and boolean types.\n",
        "\n",
        "...\n",
        "user_input = input(\"Enter a value: \")\n",
        "\n",
        "\n",
        "try:\n",
        "    int_value = int(user_input)\n",
        "    print(\"Integer value:\", int_value)\n",
        "except ValueError:\n",
        "    print(\"Cannot convert to Integer.\")\n",
        "\n",
        "\n",
        "try:\n",
        "    float_value = float(user_input)\n",
        "    print(\"Float value:\", float_value)\n",
        "except ValueError:\n",
        "    print(\"Cannot convert to Float.\")\n",
        "\n",
        "bool_value = bool(user_input)\n",
        "print(\"Boolean value:\", bool_value)\n",
        "..."
      ],
      "metadata": {
        "colab": {
          "base_uri": "https://localhost:8080/"
        },
        "id": "nQS0xNLhUEmP",
        "outputId": "910e915b-460c-46a9-9eb9-74f954152aeb"
      },
      "execution_count": 24,
      "outputs": [
        {
          "output_type": "stream",
          "name": "stdout",
          "text": [
            "Enter a value: 30.5\n",
            "Cannot convert to Integer.\n",
            "Float value: 30.5\n",
            "Boolean value: True\n"
          ]
        }
      ]
    },
    {
      "cell_type": "code",
      "source": [
        "# Write code to demonstrate type casting with list elements.\n",
        "\n",
        "...\n",
        "str_list = ['10', '20', '30']\n",
        "\n",
        "print(\"Original string list:\", str_list)\n",
        "\n",
        "try:\n",
        "    int_list = [int(x) for x in str_list]\n",
        "    print(\"List converted to integers:\", int_list)\n",
        "except ValueError as e:\n",
        "    print(\"Error converting to int:\", e)\n",
        "..."
      ],
      "metadata": {
        "colab": {
          "base_uri": "https://localhost:8080/"
        },
        "id": "w2QpTxG3VVUc",
        "outputId": "26b74c10-adf8-47b5-fc48-fae02a86a0e1"
      },
      "execution_count": 26,
      "outputs": [
        {
          "output_type": "stream",
          "name": "stdout",
          "text": [
            "Original string list: ['10', '20', '30']\n",
            "List converted to integers: [10, 20, 30]\n"
          ]
        }
      ]
    },
    {
      "cell_type": "code",
      "source": [
        "# Write a program that checks if a number is positive, negative, or zero.\n",
        "\n",
        "\n",
        "...\n",
        "num = float(input(\"Enter a number: \"))\n",
        "\n",
        "if num > 0:\n",
        "    print(\"The number is positive.\")\n",
        "elif num < 0:\n",
        "    print(\"The number is negative.\")\n",
        "else:\n",
        "    print(\"The number is zero.\")\n",
        "..."
      ],
      "metadata": {
        "colab": {
          "base_uri": "https://localhost:8080/"
        },
        "id": "AngLA-HiWHZ1",
        "outputId": "7757a98a-7d47-4817-b4d4-0c1c36431f0f"
      },
      "execution_count": 27,
      "outputs": [
        {
          "output_type": "stream",
          "name": "stdout",
          "text": [
            "Enter a number: -10\n",
            "The number is negative.\n"
          ]
        }
      ]
    },
    {
      "cell_type": "code",
      "source": [
        "# Write a for loop to print numbers from 1 to 10.\n",
        "\n",
        "...\n",
        "for i in range(1, 11):\n",
        "    print(i)\n",
        "..."
      ],
      "metadata": {
        "colab": {
          "base_uri": "https://localhost:8080/"
        },
        "id": "CMocKhMqWw1c",
        "outputId": "3af6c260-dc26-49b6-8c76-da9338f3be1c"
      },
      "execution_count": 28,
      "outputs": [
        {
          "output_type": "stream",
          "name": "stdout",
          "text": [
            "1\n",
            "2\n",
            "3\n",
            "4\n",
            "5\n",
            "6\n",
            "7\n",
            "8\n",
            "9\n",
            "10\n"
          ]
        }
      ]
    },
    {
      "cell_type": "code",
      "source": [
        "# Write a Python program to find the sum of all even numbers between 1 and 50.\n",
        "...\n",
        "even_sum = 0\n",
        "\n",
        "for num in range(1, 51):\n",
        "    if num % 2 == 0:\n",
        "        even_sum += num\n",
        "\n",
        "print(\"Sum of even numbers from 1 to 50 is:\", even_sum)\n",
        "..."
      ],
      "metadata": {
        "colab": {
          "base_uri": "https://localhost:8080/"
        },
        "id": "HIR0SJzCXGfM",
        "outputId": "c6d35db5-6863-4757-e93f-13b22d3a3b17"
      },
      "execution_count": 29,
      "outputs": [
        {
          "output_type": "stream",
          "name": "stdout",
          "text": [
            "Sum of even numbers from 1 to 50 is: 650\n"
          ]
        }
      ]
    },
    {
      "cell_type": "code",
      "source": [
        "# Write a program to reverse a string using a while loop.\n",
        "\n",
        "\n",
        "...\n",
        "text = input(\"Enter a string: \")\n",
        "reversed_text = \"\"\n",
        "\n",
        "index = len(text) - 1\n",
        "\n",
        "while index >= 0:\n",
        "    reversed_text += text[index]\n",
        "    index -= 1\n",
        "\n",
        "print(\"Reversed string:\", reversed_text)\n",
        "..."
      ],
      "metadata": {
        "colab": {
          "base_uri": "https://localhost:8080/"
        },
        "id": "rVfys3Y3XtYn",
        "outputId": "98dac751-ab05-4627-c702-d3ef246f4c2d"
      },
      "execution_count": 30,
      "outputs": [
        {
          "output_type": "stream",
          "name": "stdout",
          "text": [
            "Enter a string: 50\n",
            "Reversed string: 05\n"
          ]
        }
      ]
    },
    {
      "cell_type": "code",
      "source": [
        "# Write a Python program to calculate the factorial of a number provided by the user using a while loop.\n",
        "\n",
        "...\n",
        "num = int(input(\"Enter a non-negative number: \"))\n",
        "\n",
        "if num < 0:\n",
        "    print(\"Factorial is not defined for negative numbers.\")\n",
        "else:\n",
        "    factorial = 1\n",
        "    i = 1\n",
        "\n",
        "    while i <= num:\n",
        "        factorial *= i\n",
        "        i += 1\n",
        "\n",
        "    print(\"Factorial of {num} is: {factorial}\")\n",
        "..."
      ],
      "metadata": {
        "colab": {
          "base_uri": "https://localhost:8080/"
        },
        "id": "149uDqAuYQWB",
        "outputId": "2e0b5d98-853b-4040-9f68-522c914c9f65"
      },
      "execution_count": 38,
      "outputs": [
        {
          "output_type": "stream",
          "name": "stdout",
          "text": [
            "Enter a non-negative number: 10\n",
            "Factorial of {num} is: {factorial}\n"
          ]
        },
        {
          "output_type": "execute_result",
          "data": {
            "text/plain": [
              "Ellipsis"
            ]
          },
          "metadata": {},
          "execution_count": 38
        }
      ]
    }
  ]
}