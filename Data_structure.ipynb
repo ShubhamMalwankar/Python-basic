{
  "nbformat": 4,
  "nbformat_minor": 0,
  "metadata": {
    "colab": {
      "provenance": []
    },
    "kernelspec": {
      "name": "python3",
      "display_name": "Python 3"
    },
    "language_info": {
      "name": "python"
    }
  },
  "cells": [
    {
      "cell_type": "code",
      "execution_count": null,
      "metadata": {
        "id": "OCYTrKQH2Dt4"
      },
      "outputs": [],
      "source": []
    },
    {
      "cell_type": "markdown",
      "source": [
        "1. What are data structures, and why are they important?\n",
        "   - Data structures are tools for organizing and processing data efficiently. Strings, lists, tuples and sets, dictionary are some types of data structure.\n",
        "\n",
        "2. Explain the difference between mutable and immutable data types with examples.\n",
        "   - Mutable data types can be changed after creation (e.g., list, dict), while immutable data types cannot be changed once created (e.g., int, str, tuple).\n",
        "\n",
        "3. What are the main differences between lists and tuples in Python?\n",
        "   - Lists are mutable, dynamic, and consume more memory, while tuples are immutable, faster, and use less memory.\n",
        "\n",
        "4. Describe how dictionaries store data.\n",
        "   - Dictionaries store data as key-value pairs using a hash table, where each key is hashed to determine its index in memory, allowing fast access, insertion, and deletion.\n",
        "\n",
        "5. Why might you use a set instead of a list in Python?\n",
        "   - You might use a set instead of a list in Python when you need unique items, faster lookups, or set math operations.\n",
        "\n",
        "6. What is a string in Python, and how is it different from a list?\n",
        "   - A string in Python is an immutable sequence of characters, whereas a list is a mutable sequence that can hold any data types.\n",
        "\n",
        "7.  How do tuples ensure data integrity in Python?\n",
        "    - Tuples ensure data integrity in Python by being immutable, meaning once created, their values cannot be changed, added, or removed, which protects the data from accidental modification.\n",
        "\n",
        "8. What is a hash table, and how does it relate to dictionaries in Python?\n",
        "   - A hash table is a data structure that stores key-value pairs using a hash function to compute an index.\n",
        "\n",
        "9. Can lists contain different data types in Python?\n",
        "   - Yes, lists in Python can contain different data types, including integers, strings, floats, other lists, or even custom objects.\n",
        "\n",
        "10. Explain why strings are immutable in Python.\n",
        "    - Strings are immutable in Python to ensure memory efficiency, security, and reliability, especially when shared across multiple parts of a program.\n",
        "\n",
        "11. What advantages do dictionaries offer over lists for certain tasks?\n",
        "    - Dictionaries offer faster, more meaningful access to data compared to lists, especially when working with key-based lookups.\n",
        "\n",
        "12. Describe a scenario where using a tuple would be preferable over a list.\n",
        "    - When storing fixed data that should never change, such as GPS coordinates, database record keys, or days of the week, a tuple is preferable.\n",
        "\n",
        "13. How do sets handle duplicate values in Python?\n",
        "    - In Python, sets automatically remove duplicate values, storing only unique elements.\n",
        "\n",
        "14. How does the “in” keyword work differently for lists and dictionaries?\n",
        "    - The \"in\" keyword checks for values in lists and checks for keys in dictionaries.\n",
        "\n",
        "15. Can you modify the elements of a tuple? Explain why or why not?\n",
        "    - No, you cannot modify the elements of a tuple because tuples are immutable in Python, once created, their elements cannot be changed, added, or removed.\n",
        "\n",
        "16. What is a nested dictionary, and give an example of its use case?\n",
        "    - A nested dictionary is a dictionary inside another dictionary, allowing you to store structured, hierarchical data.\n",
        "\n",
        "    students = { \"101\": {\"name\": \"Aditya\", \"age\": 21, \"grade\": \"A\"},\n",
        "    \"102\": {\"name\": \"Riya\", \"age\": 22, \"grade\": \"B\"}}\n",
        "    print(students[\"101\"][\"name\"])  # Output: Aditya\n",
        "\n",
        "17. Describe the time complexity of accessing elements in a dictionary.\n",
        "    -\n",
        "\n",
        "18. In what situations are lists preferred over dictionaries?\n",
        "    - Lists are preferred over dictionaries when order matters, and you only need to store and access items by index rather than by key.\n",
        "\n",
        "19. Why are dictionaries considered unordered, and how does that affect data retrieval?\n",
        "    - dont know\n",
        "\n",
        "20. Explain the difference between a list and a dictionary in terms of data retrieval.\n",
        "    - A list retrieves data by index (position), while a dictionary retrieves data by key (name).     \n",
        "\n",
        "\n",
        "             \n",
        "\n"
      ],
      "metadata": {
        "id": "VeUSybtO2fR5"
      }
    },
    {
      "cell_type": "code",
      "source": [
        "# Write a code to create a string with your name and print it\n",
        "...\n",
        "my_name = \"Shubham Malwankar\"\n",
        "\n",
        "print(\"My name is:\", my_name)\n",
        "..."
      ],
      "metadata": {
        "colab": {
          "base_uri": "https://localhost:8080/"
        },
        "id": "xKiG40eO87R1",
        "outputId": "5c34db49-50d3-4a92-cc4a-4ed9d094295b"
      },
      "execution_count": null,
      "outputs": [
        {
          "output_type": "stream",
          "name": "stdout",
          "text": [
            "My name is: Shubham Malwankar\n"
          ]
        }
      ]
    },
    {
      "cell_type": "code",
      "source": [
        "# Write a code to find the length of the string \"Hello World\".\n",
        "...\n",
        "len(\"Hello world\")\n",
        "..."
      ],
      "metadata": {
        "colab": {
          "base_uri": "https://localhost:8080/"
        },
        "id": "sCIWknQ99yYi",
        "outputId": "e5ff7734-78a6-4540-d563-5160601ce26e"
      },
      "execution_count": null,
      "outputs": [
        {
          "output_type": "execute_result",
          "data": {
            "text/plain": [
              "11"
            ]
          },
          "metadata": {},
          "execution_count": 2
        }
      ]
    },
    {
      "cell_type": "code",
      "source": [
        "# Write a code to slice the first 3 characters from the string \"Python Programming\".\n",
        "...\n",
        "text = \"Python Programming\"\n",
        "sliced_text = text[:3]\n",
        "print(sliced_text)\n",
        "..."
      ],
      "metadata": {
        "colab": {
          "base_uri": "https://localhost:8080/"
        },
        "id": "NbA_2ueT-MGp",
        "outputId": "d54bcadb-cd9d-4a0d-9c2e-891ce58fe303"
      },
      "execution_count": null,
      "outputs": [
        {
          "output_type": "stream",
          "name": "stdout",
          "text": [
            "Pyt\n"
          ]
        }
      ]
    },
    {
      "cell_type": "code",
      "source": [
        "# Write a code to convert the string \"hello\" to uppercase\n",
        "...\n",
        "text = \"hello\"\n",
        "uppercase_text = text.upper()\n",
        "print(uppercase_text)\n",
        "..."
      ],
      "metadata": {
        "colab": {
          "base_uri": "https://localhost:8080/"
        },
        "id": "1DXsBaag_UaZ",
        "outputId": "70039f70-36b8-4aac-83a0-0a12f9ddf286"
      },
      "execution_count": null,
      "outputs": [
        {
          "output_type": "stream",
          "name": "stdout",
          "text": [
            "HELLO\n"
          ]
        }
      ]
    },
    {
      "cell_type": "code",
      "source": [
        "# Write a code to replace the word \"apple\" with \"orange\" in the string \"I like apple\".\n",
        "...\n",
        "text = \"I like apple\"\n",
        "text.replace(\"apple\", \"orange\")\n",
        "..."
      ],
      "metadata": {
        "colab": {
          "base_uri": "https://localhost:8080/",
          "height": 36
        },
        "id": "SJiCp2FyACLj",
        "outputId": "a703a486-cbf7-4b1b-f874-0b6f0ead2be3"
      },
      "execution_count": null,
      "outputs": [
        {
          "output_type": "execute_result",
          "data": {
            "text/plain": [
              "'I like orange'"
            ],
            "application/vnd.google.colaboratory.intrinsic+json": {
              "type": "string"
            }
          },
          "metadata": {},
          "execution_count": 12
        }
      ]
    },
    {
      "cell_type": "code",
      "source": [
        "# Write a code to create a list with numbers 1 to 5 and print it.\n",
        "...\n",
        "numbers = [1, 2, 3, 4, 5]\n",
        "print(\"List of numbers:\", numbers)\n",
        "..."
      ],
      "metadata": {
        "colab": {
          "base_uri": "https://localhost:8080/"
        },
        "id": "5uSE0PPIBUF7",
        "outputId": "3a72d8c4-acdb-4248-8095-c3f4de5b4e7c"
      },
      "execution_count": null,
      "outputs": [
        {
          "output_type": "stream",
          "name": "stdout",
          "text": [
            "List of numbers: [1, 2, 3, 4, 5]\n"
          ]
        }
      ]
    },
    {
      "cell_type": "code",
      "source": [
        "# Write a code to append the number 10 to the list [1, 2, 3, 4]\n",
        "...\n",
        "numbers = [1, 2, 3, 4]\n",
        "numbers.append(10)\n",
        "print(numbers)\n",
        "..."
      ],
      "metadata": {
        "colab": {
          "base_uri": "https://localhost:8080/"
        },
        "id": "aI54uPBvCuIT",
        "outputId": "f6c1a7d7-aa39-4b3d-f462-7b5d2adb5bbc"
      },
      "execution_count": null,
      "outputs": [
        {
          "output_type": "stream",
          "name": "stdout",
          "text": [
            "[1, 2, 3, 4, 10]\n"
          ]
        }
      ]
    },
    {
      "cell_type": "code",
      "source": [
        "# Write a code to remove the number 3 from the list [1, 2, 3, 4, 5]\n",
        "...\n",
        "numbers = [1, 2, 3, 4, 5]\n",
        "numbers.remove(3)\n",
        "print(numbers)\n",
        "..."
      ],
      "metadata": {
        "colab": {
          "base_uri": "https://localhost:8080/"
        },
        "id": "K9cJ_Hy-DLPP",
        "outputId": "b68cd324-dd28-4729-dc82-17465abe0637"
      },
      "execution_count": null,
      "outputs": [
        {
          "output_type": "stream",
          "name": "stdout",
          "text": [
            "[1, 2, 4, 5]\n"
          ]
        }
      ]
    },
    {
      "cell_type": "code",
      "source": [
        "# Write a code to access the second element in the list ['a', 'b', 'c', 'd']\n",
        "...\n",
        "letters = ['a', 'b', 'c', 'd']\n",
        "second_element = letters[1]\n",
        "print(second_element)\n",
        "..."
      ],
      "metadata": {
        "colab": {
          "base_uri": "https://localhost:8080/"
        },
        "id": "NqXt1eEcDgJw",
        "outputId": "d3211d15-bf84-4c9b-c834-7035f6158a7e"
      },
      "execution_count": null,
      "outputs": [
        {
          "output_type": "stream",
          "name": "stdout",
          "text": [
            "b\n"
          ]
        }
      ]
    },
    {
      "cell_type": "code",
      "source": [
        "# Write a code to reverse the list [10, 20, 30, 40, 50].\n",
        "...\n",
        "numbers = [10, 20, 30, 40, 50 ]\n",
        "reversed_numbers = numbers[::-1]\n",
        "print(reversed_numbers)\n",
        "..."
      ],
      "metadata": {
        "colab": {
          "base_uri": "https://localhost:8080/"
        },
        "id": "RXZnFLfQEssW",
        "outputId": "93488ae9-99ca-4fc5-f092-736d5404d0da"
      },
      "execution_count": null,
      "outputs": [
        {
          "output_type": "stream",
          "name": "stdout",
          "text": [
            "[50, 40, 30, 20, 10]\n"
          ]
        }
      ]
    },
    {
      "cell_type": "code",
      "source": [
        "# Write a code to create a tuple with the elements 100, 200, 300 and print it\n",
        "...\n",
        "numbers = (100, 200, 300)\n",
        "print(\"Tuple:\", numbers)\n",
        "..."
      ],
      "metadata": {
        "colab": {
          "base_uri": "https://localhost:8080/"
        },
        "id": "HW7wcjRhFXAS",
        "outputId": "48625cd8-3505-4ded-e2eb-b1a5c53f74e6"
      },
      "execution_count": null,
      "outputs": [
        {
          "output_type": "stream",
          "name": "stdout",
          "text": [
            "Tuple: (100, 200, 300)\n"
          ]
        }
      ]
    },
    {
      "cell_type": "code",
      "source": [
        "# Write a code to access the second-to-last element of the tuple ('red', 'green', 'blue', 'yellow').\n",
        "...\n",
        "tuple = ('red', 'green', 'blue', 'yellow')\n",
        "second_last = tuple[-2]\n",
        "print(second_last)\n",
        "..."
      ],
      "metadata": {
        "colab": {
          "base_uri": "https://localhost:8080/"
        },
        "id": "zIIO09FRGMFR",
        "outputId": "7c451a35-d3bf-4e5e-b7b9-7f75fbfa0a82"
      },
      "execution_count": null,
      "outputs": [
        {
          "output_type": "stream",
          "name": "stdout",
          "text": [
            "blue\n"
          ]
        }
      ]
    },
    {
      "cell_type": "code",
      "source": [
        "# Write a code to find the minimum number in the tuple (10, 20, 5, 15).\n",
        "...\n",
        "numbers = (10, 20, 5, 15)\n",
        "minimum = min(numbers)\n",
        "print(minimum)\n",
        "..."
      ],
      "metadata": {
        "colab": {
          "base_uri": "https://localhost:8080/"
        },
        "id": "ejAGOxCwGyiR",
        "outputId": "29bd4ae2-e2e7-427c-f366-ba237013d3d6"
      },
      "execution_count": null,
      "outputs": [
        {
          "output_type": "stream",
          "name": "stdout",
          "text": [
            "5\n"
          ]
        }
      ]
    },
    {
      "cell_type": "code",
      "source": [
        "# Write a code to find the index of the element \"cat\" in the tuple ('dog', 'cat', 'rabbit').\n",
        "...\n",
        "animal = ('dog', 'cat', 'rabbit')\n",
        "cat = animal.index('cat')\n",
        "print(cat)\n",
        "..."
      ],
      "metadata": {
        "colab": {
          "base_uri": "https://localhost:8080/"
        },
        "id": "SpxLCRGMHMTS",
        "outputId": "d6e919fd-d91c-41b1-c55c-b78106d6ffcf"
      },
      "execution_count": null,
      "outputs": [
        {
          "output_type": "stream",
          "name": "stdout",
          "text": [
            "1\n"
          ]
        }
      ]
    },
    {
      "cell_type": "code",
      "source": [
        "#  Write a code to create a tuple containing three different fruits and check if \"kiwi\" is in it.\n",
        "...\n",
        "fruits = (\"apple\", \"orange\", \"kiwi\")\n",
        "if \"kiwi\" in fruits:\n",
        "   print(\"kiwi is in tuple\")\n",
        "else:\n",
        "   print(\"kiwi is not in tuple\")\n",
        "..."
      ],
      "metadata": {
        "colab": {
          "base_uri": "https://localhost:8080/"
        },
        "id": "tUBgGCiHHuHX",
        "outputId": "20a64f4e-c82b-4d64-b8b8-4e9a711cda4a"
      },
      "execution_count": null,
      "outputs": [
        {
          "output_type": "stream",
          "name": "stdout",
          "text": [
            "kiwi is in tuple\n"
          ]
        }
      ]
    },
    {
      "cell_type": "code",
      "source": [
        "# Write a code to create a set with the elements 'a', 'b', 'c' and print it.\n",
        "...\n",
        "my_set = {'a', 'b', 'c'}\n",
        "print(\"set =\", my_set)\n",
        "..."
      ],
      "metadata": {
        "colab": {
          "base_uri": "https://localhost:8080/"
        },
        "id": "tOAQoMYkI6_a",
        "outputId": "3af90a74-21ce-44ed-c222-59df295369c3"
      },
      "execution_count": null,
      "outputs": [
        {
          "output_type": "stream",
          "name": "stdout",
          "text": [
            "set = {'c', 'b', 'a'}\n"
          ]
        }
      ]
    },
    {
      "cell_type": "code",
      "source": [
        "# Write a code to clear all elements from the set {1, 2, 3, 4, 5}.\n",
        "...\n",
        "set = {1, 2, 3, 4, 5}\n",
        "set.clear()\n",
        "print(set)\n",
        "..."
      ],
      "metadata": {
        "colab": {
          "base_uri": "https://localhost:8080/"
        },
        "id": "PI-meVfuJY1M",
        "outputId": "d300cead-0099-4262-e190-732f30a4afcf"
      },
      "execution_count": null,
      "outputs": [
        {
          "output_type": "stream",
          "name": "stdout",
          "text": [
            "set()\n"
          ]
        }
      ]
    },
    {
      "cell_type": "code",
      "source": [
        "# Write a code to remove the element 4 from the set {1, 2, 3, 4}.\n",
        "...\n",
        "number = {1, 2, 3, 4}\n",
        "number.remove(4)\n",
        "print(number)\n",
        "...\n"
      ],
      "metadata": {
        "colab": {
          "base_uri": "https://localhost:8080/"
        },
        "id": "oik9xVJeJ-Sg",
        "outputId": "04b34467-e4d5-4133-ce2e-b136838f5dbe"
      },
      "execution_count": null,
      "outputs": [
        {
          "output_type": "stream",
          "name": "stdout",
          "text": [
            "{1, 2, 3}\n"
          ]
        }
      ]
    },
    {
      "cell_type": "code",
      "source": [
        "# Write a code to find the union of two sets {1, 2, 3} and {3, 4, 5}.\n",
        "...\n",
        "set1 = {1, 2, 3}\n",
        "set2 = {3, 4, 5}\n",
        "union_set = set1.union(set2)\n",
        "print(union_set)\n",
        "..."
      ],
      "metadata": {
        "colab": {
          "base_uri": "https://localhost:8080/"
        },
        "id": "cu-hT0mKKR_n",
        "outputId": "d0ac336a-0177-46c8-d9f8-ba86bf751c92"
      },
      "execution_count": null,
      "outputs": [
        {
          "output_type": "stream",
          "name": "stdout",
          "text": [
            "{1, 2, 3, 4, 5}\n"
          ]
        }
      ]
    },
    {
      "cell_type": "code",
      "source": [
        "# Write a code to find the intersection of two sets {1, 2, 3} and {2, 3, 4}.\n",
        "...\n",
        "set1 = {1, 2, 3}\n",
        "set2 = {2, 3, 4}\n",
        "intersection_set = set1 & set2\n",
        "print(intersection_set)\n",
        "..."
      ],
      "metadata": {
        "colab": {
          "base_uri": "https://localhost:8080/"
        },
        "id": "FwFIMqauLwPQ",
        "outputId": "0563960d-5e19-40b2-87e9-521e712b5412"
      },
      "execution_count": null,
      "outputs": [
        {
          "output_type": "stream",
          "name": "stdout",
          "text": [
            "{2, 3}\n"
          ]
        }
      ]
    },
    {
      "cell_type": "code",
      "source": [
        "# Write a code to create a dictionary with the keys \"name\", \"age\", and \"city\", and print it.\n",
        "...\n",
        "Biodata = {\"name\": \"shubham\", \"agw\": \"25\", \"city\": \"mumbai\"}\n",
        "print(Biodata)\n",
        "..."
      ],
      "metadata": {
        "colab": {
          "base_uri": "https://localhost:8080/"
        },
        "id": "y841XorDMXz1",
        "outputId": "10ec9070-206f-43d3-9736-15cd7cd721bf"
      },
      "execution_count": null,
      "outputs": [
        {
          "output_type": "stream",
          "name": "stdout",
          "text": [
            "{'name': 'shubham', 'agw': '25', 'city': 'mumbai'}\n"
          ]
        }
      ]
    },
    {
      "cell_type": "code",
      "source": [
        "# Write a code to add a new key-value pair \"country\": \"USA\" to the dictionary {'name': 'John', 'age': 25}.\n",
        "...\n",
        "person = {'name': 'John', 'age': 25}\n",
        "person['country'] = 'USA'\n",
        "print(\"Updated dictionary:\", person)\n",
        "..."
      ],
      "metadata": {
        "colab": {
          "base_uri": "https://localhost:8080/"
        },
        "id": "BWzwY4fHNF8y",
        "outputId": "3caf9ffe-0d6d-4cc0-d791-bb12931a87d3"
      },
      "execution_count": null,
      "outputs": [
        {
          "output_type": "stream",
          "name": "stdout",
          "text": [
            "Updated dictionary: {'name': 'John', 'age': 25, 'country': 'USA'}\n"
          ]
        }
      ]
    },
    {
      "cell_type": "code",
      "source": [
        "# Write a code to access the value associated with the key \"name\" in the dictionary {'name': 'Alice', 'age': 30}\n",
        "...\n",
        "person = {'name': 'Alice', 'age': 30}\n",
        "name_value = person['name']\n",
        "print(name_value)\n",
        "..."
      ],
      "metadata": {
        "colab": {
          "base_uri": "https://localhost:8080/"
        },
        "id": "jDEkTwfWNZYA",
        "outputId": "b41001e3-7d70-4af1-fc2c-059d1db6b8cf"
      },
      "execution_count": null,
      "outputs": [
        {
          "output_type": "stream",
          "name": "stdout",
          "text": [
            "Alice\n"
          ]
        }
      ]
    },
    {
      "cell_type": "code",
      "source": [
        "# Write a code to remove the key \"age\" from the dictionary {'name': 'Bob', 'age': 22, 'city': 'New York'}.\n",
        "...\n",
        "person = {'name': 'Bob', 'age': 22, 'city': 'New York'}\n",
        "del person['age']\n",
        "print(person)\n",
        "..."
      ],
      "metadata": {
        "colab": {
          "base_uri": "https://localhost:8080/"
        },
        "id": "SaDDwNsoNykO",
        "outputId": "595828e5-fe36-479a-d254-c78c78de2f35"
      },
      "execution_count": null,
      "outputs": [
        {
          "output_type": "stream",
          "name": "stdout",
          "text": [
            "{'name': 'Bob', 'city': 'New York'}\n"
          ]
        }
      ]
    },
    {
      "cell_type": "code",
      "source": [
        "#  Write a code to check if the key \"city\" exists in the dictionary {'name': 'Alice', 'city': 'Paris'}.\n",
        "...\n",
        "person = {'name': 'Alice', 'city': 'Paris'}\n",
        "\n",
        "if 'city' in person:\n",
        "    print(\"Key 'city' exists in the dictionary.\")\n",
        "else:\n",
        "    print(\"Key 'city' does not exist in the dictionary.\")\n",
        "..."
      ],
      "metadata": {
        "colab": {
          "base_uri": "https://localhost:8080/"
        },
        "id": "ZsuODtUGOLKg",
        "outputId": "3f05e500-0dd6-4fe0-fd13-6dfc9f024644"
      },
      "execution_count": null,
      "outputs": [
        {
          "output_type": "stream",
          "name": "stdout",
          "text": [
            "Key 'city' exists in the dictionary.\n"
          ]
        }
      ]
    },
    {
      "cell_type": "code",
      "source": [
        "# Write a code to create a list, a tuple, and a dictionary, and print them all.\n",
        "...\n",
        "my_list = [1, 2, 3, 4, 5]\n",
        "\n",
        "my_tuple = ('apple', 'banana', 'cherry')\n",
        "\n",
        "my_dict = {'name': 'Alice', 'age': 30, 'city': 'Paris'}\n",
        "\n",
        "print(\"List:\", my_list)\n",
        "print(\"Tuple:\", my_tuple)\n",
        "print(\"Dictionary:\", my_dict)\n",
        "..."
      ],
      "metadata": {
        "colab": {
          "base_uri": "https://localhost:8080/"
        },
        "id": "SvnogAiLOq9b",
        "outputId": "86b26476-5105-4038-89cc-5239a07233af"
      },
      "execution_count": null,
      "outputs": [
        {
          "output_type": "stream",
          "name": "stdout",
          "text": [
            "List: [1, 2, 3, 4, 5]\n",
            "Tuple: ('apple', 'banana', 'cherry')\n",
            "Dictionary: {'name': 'Alice', 'age': 30, 'city': 'Paris'}\n"
          ]
        }
      ]
    },
    {
      "cell_type": "code",
      "source": [
        "# Write a code to create a list of 5 random numbers between 1 and 100, sort it in ascending order, and print the result.\n",
        "...\n",
        "..."
      ],
      "metadata": {
        "id": "sG730ElHPDrQ"
      },
      "execution_count": null,
      "outputs": []
    },
    {
      "cell_type": "code",
      "source": [
        "#  Write a code to create a list with strings and print the element at the third index.\n",
        "...\n",
        "words = [\"apple\", \"banana\", \"cherry\", \"date\"]\n",
        "print(words[3])\n",
        "..."
      ],
      "metadata": {
        "colab": {
          "base_uri": "https://localhost:8080/"
        },
        "id": "XH4wRViRPwpD",
        "outputId": "cb96875b-0ed7-4cf3-9d7e-3d231911a64c"
      },
      "execution_count": null,
      "outputs": [
        {
          "output_type": "stream",
          "name": "stdout",
          "text": [
            "date\n"
          ]
        }
      ]
    },
    {
      "cell_type": "code",
      "source": [
        "# Write a code to combine two dictionaries into one and print the result.\n",
        "...\n",
        "dict1 = {'a': 1, 'b': 2}\n",
        "dict2 = {'c': 3, 'd': 4}\n",
        "combined_dict = {**dict1, **dict2}\n",
        "\n",
        "print(combined_dict)\n",
        "..."
      ],
      "metadata": {
        "colab": {
          "base_uri": "https://localhost:8080/"
        },
        "id": "XwJLZhFeQDIR",
        "outputId": "1e651e29-bc71-431d-fd43-2407269dbc73"
      },
      "execution_count": null,
      "outputs": [
        {
          "output_type": "stream",
          "name": "stdout",
          "text": [
            "{'a': 1, 'b': 2, 'c': 3, 'd': 4}\n"
          ]
        }
      ]
    },
    {
      "cell_type": "code",
      "source": [
        "# Write a code to convert a list of strings into a set.\n",
        "...\n",
        "numbers = [1, 2, 3, 4]\n",
        "numbers_set = set(numbers)\n",
        "print(numbers_set)\n",
        "..."
      ],
      "metadata": {
        "colab": {
          "base_uri": "https://localhost:8080/",
          "height": 211
        },
        "id": "CJfe_95RRJyR",
        "outputId": "80e3800e-1e25-4f85-8c2b-d3fadcc59726"
      },
      "execution_count": null,
      "outputs": [
        {
          "output_type": "error",
          "ename": "TypeError",
          "evalue": "'set' object is not callable",
          "traceback": [
            "\u001b[0;31m---------------------------------------------------------------------------\u001b[0m",
            "\u001b[0;31mTypeError\u001b[0m                                 Traceback (most recent call last)",
            "\u001b[0;32m/tmp/ipython-input-1776507886.py\u001b[0m in \u001b[0;36m<cell line: 0>\u001b[0;34m()\u001b[0m\n\u001b[1;32m      2\u001b[0m \u001b[0;34m\u001b[0m\u001b[0m\n\u001b[1;32m      3\u001b[0m \u001b[0mnumbers\u001b[0m \u001b[0;34m=\u001b[0m \u001b[0;34m[\u001b[0m\u001b[0;36m1\u001b[0m\u001b[0;34m,\u001b[0m \u001b[0;36m2\u001b[0m\u001b[0;34m,\u001b[0m \u001b[0;36m3\u001b[0m\u001b[0;34m,\u001b[0m \u001b[0;36m4\u001b[0m\u001b[0;34m]\u001b[0m\u001b[0;34m\u001b[0m\u001b[0;34m\u001b[0m\u001b[0m\n\u001b[0;32m----> 4\u001b[0;31m \u001b[0mnumbers_set\u001b[0m \u001b[0;34m=\u001b[0m \u001b[0mset\u001b[0m\u001b[0;34m(\u001b[0m\u001b[0mnumbers\u001b[0m\u001b[0;34m)\u001b[0m\u001b[0;34m\u001b[0m\u001b[0;34m\u001b[0m\u001b[0m\n\u001b[0m\u001b[1;32m      5\u001b[0m \u001b[0mprint\u001b[0m\u001b[0;34m(\u001b[0m\u001b[0mnumbers_set\u001b[0m\u001b[0;34m)\u001b[0m\u001b[0;34m\u001b[0m\u001b[0;34m\u001b[0m\u001b[0m\n\u001b[1;32m      6\u001b[0m \u001b[0;34m\u001b[0m\u001b[0m\n",
            "\u001b[0;31mTypeError\u001b[0m: 'set' object is not callable"
          ]
        }
      ]
    }
  ]
}