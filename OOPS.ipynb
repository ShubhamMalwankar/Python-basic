{
  "nbformat": 4,
  "nbformat_minor": 0,
  "metadata": {
    "colab": {
      "provenance": []
    },
    "kernelspec": {
      "name": "python3",
      "display_name": "Python 3"
    },
    "language_info": {
      "name": "python"
    }
  },
  "cells": [
    {
      "cell_type": "markdown",
      "source": [
        "1. What is Object-Oriented Programming (OOP)?\n",
        "   - Object-Oriented Programming (OOP) is a programming paradigm that organizes code into objects containing data and behavior to model real-world entities.\n",
        "2. What is a class in OOP?\n",
        "   - In OOP, a class is a template for creating objects that defines their attributes and methods.\n",
        "3. What is an object in OOP?\n",
        "   - In OOP, an object is an instance of a class that represents a real-world entity with its own data and behavior.\n",
        "4. What is the difference between abstraction and encapsulation?\n",
        "   - Abstraction and Encapsulation are two key concepts in OOP but serve different purposes.\n",
        "   1. Abstraction is the process of hiding implementation details and showing only the essential features of an object — it focuses on what an object does rather than how it does it\n",
        "   2. Encapsulation is the process of wrapping data and methods together into a single unit, i.e., a class, and controlling access to them using access modifiers (like private, protected, public).\n",
        "5. What are dunder methods in Python?\n",
        "   - Dunder methods in Python are special methods with double underscores (like __init__, __str__, __add__) that let you define or customize the behavior of objects.\n",
        "6. Explain the concept of inheritance in OOP.\n",
        "   - Inheritance in OOP is a mechanism that allows a class to acquire the properties and behaviors of another class (parent/superclass), enabling code reusability, extensibility, and the creation of hierarchical relationships.\n",
        "7. What is polymorphism in OOP?\n",
        "   - Polymorphism in OOP is the ability of different classes to provide a different implementation for the same method or operation, allowing one interface to be used with multiple underlying forms (e.g., method overriding or operator overloading)\n",
        "8. How is encapsulation achieved in Python?\n",
        "   - In Python, encapsulation is achieved by restricting direct access to an object’s data and methods and controlling it through access modifiers and getter/setter methods.\n",
        "9. What is a constructor in Python?\n",
        "   - In Python, a constructor is a special method named __init__ that is automatically called when a new object of a class is created, and it is used to initialize the object’s attributes.\n",
        "10. What are class and static methods in Python?\n",
        "    - In Python, class methods and static methods are special types of methods defined inside a class using decorators.\n",
        "11. What is method overloading in Python?\n",
        "    - In python method overloading means defining multiple methods in the same class with the same name but different parameter lists.    \n",
        "12. What is method overriding in OOP?\n",
        "    - Method overriding in OOP occurs when a child class provides a specific implementation of a method that is already defined in its parent class.\n",
        "13. What is a property decorator in Python?\n",
        "    - In Python, the property decorator is used to define a method in a class that can be accessed like an attribute, allowing you to implement getter, setter, and deleter methods in a clean and Pythonic way.        \n",
        "14. Why is polymorphism important in OOP?\n",
        "    - Polymorphism is important in OOP because it allows the same interface (method or operator) to work differently based on the object that uses it, making code more flexible, reusable, and easier to maintain.\n",
        "15. What is an abstract class in Python?\n",
        "    - In Python, an abstract class is a class that cannot be instantiated directly and is meant to be a blueprint for other classes.                 \n",
        "16. What are the advantages of OOP?\n",
        "    - OOP advantages: It promotes code reusability, modularity, and scalability through concepts like inheritance and polymorphism. It also enhances data security and maintainability via encapsulation and abstraction.\n",
        "17. What is the difference between a class variable and an instance variable?\n",
        "    - Class variable is Shared by all objects of the class, defined inside the class but outside methods.\n",
        "    - Instance variable is Unique to each object, defined inside methods (usually in __init__) using self.\n",
        "18. What is multiple inheritance in Python?\n",
        "    - Multiple inheritance in Python is a feature that allows a class to inherit from more than one parent class, thereby acquiring attributes and methods from all of them.\n",
        "19. Explain the purpose of ‘’__str__’ and ‘__repr__’ ‘ methods in Python.\n",
        "    - __str__ → Returns a human-readable string representation of the object.\n",
        "    - __repr__ → Returns an unambiguous/developer-friendly string representation.\n",
        "20. What is the significance of the ‘super()’ function in Python?\n",
        "    - The super() function in Python is used to call methods from a parent (super) class inside a child class, which helps in reusing code, avoiding duplication, and supporting multiple inheritance through proper method resolution order.\n",
        "21. What is the significance of the __del__ method in Python?\n",
        "    - The __del__ method in Python is a delete method that is automatically called when an object is about to be deleted.\n",
        "22. What is the difference between @staticmethod and @classmethod in Python?\n",
        "    - @staticmethod → Does not take self or cls; works like a regular function but placed inside a class for logical grouping.\n",
        "    - @classmethod → Takes cls as the first argument; can access and modify class-level attributes.    \n",
        "23. How does polymorphism work in Python with inheritance?\n",
        "    - In Python, polymorphism with inheritance works when a child class overrides a method from its parent class, and the same method call behaves differently depending on the object’s type.\n",
        "24. What is method chaining in Python OOP?\n",
        "    - Method chaining in Python OOP is a technique where multiple methods are called sequentially on the same object in a single line, because each method returns the object itself (self).\n",
        "25. What is the purpose of the __call__ method in Python?\n",
        "    - The __call__ method in Python makes an object callable like a function, meaning you can use parentheses on an instance of a class as if it were a function."
      ],
      "metadata": {
        "id": "YSAWOu1NBCbI"
      }
    },
    {
      "cell_type": "code",
      "execution_count": 1,
      "metadata": {
        "colab": {
          "base_uri": "https://localhost:8080/"
        },
        "id": "84bMcz1MA_rV",
        "outputId": "da6144c8-f6fb-442a-9b5f-74e3503cd096"
      },
      "outputs": [
        {
          "output_type": "stream",
          "name": "stdout",
          "text": [
            "Bark!\n"
          ]
        }
      ],
      "source": [
        "# Create a parent class Animal with a method speak() that prints a generic message. Create a child class Dog that overrides the speak() method to print \"Bark!\".\n",
        "class Animal:\n",
        "  def speak(self):\n",
        "    print(\"Animal speaking\")\n",
        "\n",
        "class Dog(Animal):\n",
        "  def speak(self):\n",
        "    print(\"Bark!\")\n",
        "\n",
        "dog = Dog()\n",
        "dog.speak()\n",
        "\n",
        "\n"
      ]
    },
    {
      "cell_type": "code",
      "source": [
        "# Write a program to create an abstract class Shape with a method area(). Derive classes Circle and Rectangle from it and implement the area() method in both.\n",
        "from abc import ABC, abstractmethod\n",
        "import math\n",
        "class Shape(ABC):\n",
        "    @abstractmethod\n",
        "    def area(self):\n",
        "        pass\n",
        "\n",
        "class Circle(Shape):\n",
        "    def __init__(self, radius):\n",
        "        self.radius = radius\n",
        "\n",
        "    def area(self):\n",
        "        return 3.14* self.radius ** 2\n",
        "\n",
        "class Rectangle(Shape):\n",
        "    def __init__(self, length, width):\n",
        "        self.length = length\n",
        "        self.width = width\n",
        "\n",
        "    def area(self):\n",
        "        return self.length * self.width\n",
        "\n",
        "c = Circle(4)\n",
        "r = Rectangle(6, 3)\n",
        "\n",
        "print(\"Circle area:\", c.area())\n",
        "print(\"Rectangle area:\", r.area())"
      ],
      "metadata": {
        "colab": {
          "base_uri": "https://localhost:8080/"
        },
        "id": "RmaML1Ria8Fx",
        "outputId": "eaeed2fe-950d-4225-9f5e-a9c35b1f80e5"
      },
      "execution_count": 4,
      "outputs": [
        {
          "output_type": "stream",
          "name": "stdout",
          "text": [
            "Circle area: 50.24\n",
            "Rectangle area: 18\n"
          ]
        }
      ]
    },
    {
      "cell_type": "code",
      "source": [
        "# Implement a multi-level inheritance scenario where a class Vehicle has an attribute type. Derive a class Car and further derive a class ElectricCar that adds a battery attribute.\n",
        "class Vehicle:\n",
        "    def __init__(self, vehicle_type):\n",
        "        self.type = vehicle_type\n",
        "\n",
        "    def display_info(self):\n",
        "        print(\"Vehicle type: {self.type}\")\n",
        "\n",
        "# Derived class from Vehicle\n",
        "class Car(Vehicle):\n",
        "    def __init__(self, brand, model, vehicle_type=\"Car\"):\n",
        "        super().__init__(vehicle_type)  # call parent constructor\n",
        "        self.brand = brand\n",
        "        self.model = model\n",
        "\n",
        "    def display_info(self):\n",
        "        super().display_info()\n",
        "        print(\"Car brand: {self.brand}, Model: {self.model}\")\n",
        "\n",
        "# Further derived class from Car\n",
        "class ElectricCar(Car):\n",
        "    def __init__(self, brand, model, battery_capacity):\n",
        "        super().__init__(brand, model)  # call Car constructor\n",
        "        self.battery = battery_capacity\n",
        "\n",
        "    def display_info(self):\n",
        "        super().display_info()\n",
        "        print(\"Battery capacity: {self.battery} kWh\")\n",
        "\n",
        "# Usage\n",
        "ev = ElectricCar(\"Tesla\", \"Model x\", 150)\n",
        "ev.display_info()"
      ],
      "metadata": {
        "colab": {
          "base_uri": "https://localhost:8080/"
        },
        "id": "GJAcZHbib6Qj",
        "outputId": "e1205f42-d475-4aa8-f34a-ace011fa8104"
      },
      "execution_count": 7,
      "outputs": [
        {
          "output_type": "stream",
          "name": "stdout",
          "text": [
            "Vehicle type: {self.type}\n",
            "Car brand: {self.brand}, Model: {self.model}\n",
            "Battery capacity: {self.battery} kWh\n"
          ]
        }
      ]
    },
    {
      "cell_type": "code",
      "source": [
        "# Demonstrate polymorphism by creating a base class Bird with a method fly(). Create two derived classes Sparrow and Penguin that override the fly() method\n",
        "class Bird:\n",
        "    def fly(self):\n",
        "        print(\"Bird is flying\")\n",
        "\n",
        "class Sparrow(Bird):\n",
        "    def fly(self):\n",
        "        print(\"Sparrow is flying\")\n",
        "\n",
        "class Penguin(Bird):\n",
        "    def fly(self):\n",
        "        print(\"Penguin is not flying\")\n",
        "\n",
        "bird = Bird()\n",
        "sparrow = Sparrow()\n",
        "penguin = Penguin()\n",
        "\n",
        "bird.fly()\n",
        "sparrow.fly()\n",
        "penguin.fly()\n",
        "\n"
      ],
      "metadata": {
        "colab": {
          "base_uri": "https://localhost:8080/"
        },
        "id": "CStLllj8c6pD",
        "outputId": "c56dafbd-0906-444d-d679-39ce04ca3eb1"
      },
      "execution_count": 9,
      "outputs": [
        {
          "output_type": "stream",
          "name": "stdout",
          "text": [
            "Bird is flying\n",
            "Sparrow is flying\n",
            "Penguin is not flying\n"
          ]
        }
      ]
    },
    {
      "cell_type": "code",
      "source": [
        "# Write a program to demonstrate encapsulation by creating a class BankAccount with private attributes balance and methods to deposit, withdraw, and check balance.\n",
        "class BankAccount:\n",
        "    def __init__(self, balance):\n",
        "        self.__balance = balance\n",
        "\n",
        "    def deposit(self, amount):\n",
        "        if amount > 0:\n",
        "            self.__balance += amount\n",
        "            print(\"Deposited: {amount}\")\n",
        "        else:\n",
        "            print(\"Deposit amount must be positive.\")\n",
        "\n",
        "    def withdraw(self, amount):\n",
        "        if 0 < amount <= self.__balance:\n",
        "            self.__balance -= amount\n",
        "            print(\"Withdrew: {amount}\")\n",
        "        else:\n",
        "            print(\"Insufficient balance or invalid amount.\")\n",
        "\n",
        "    def get_balance(self):\n",
        "        return self.__balance\n",
        "\n",
        "account = BankAccount(5000)\n",
        "\n",
        "account.deposit(800)\n",
        "account.withdraw(1000)\n",
        "print(\"Balance:\", account.get_balance())\n"
      ],
      "metadata": {
        "colab": {
          "base_uri": "https://localhost:8080/"
        },
        "id": "OiERaRn8dZRm",
        "outputId": "0f36d016-8289-4cce-af69-8c6b0f3137f4"
      },
      "execution_count": 11,
      "outputs": [
        {
          "output_type": "stream",
          "name": "stdout",
          "text": [
            "Deposited: {amount}\n",
            "Withdrew: {amount}\n",
            "Balance: 4800\n"
          ]
        }
      ]
    },
    {
      "cell_type": "code",
      "source": [
        "# Demonstrate runtime polymorphism using a method play() in a base class Instrument. Derive classes Guitar and Piano that implement their own version of play()\n",
        "class Instrument:\n",
        "    def play(self):\n",
        "        print(\"Instrument is playing\")\n",
        "\n",
        "class Guitar(Instrument):\n",
        "    def play(self):\n",
        "        print(\"Guitar is playing\")\n",
        "\n",
        "class Piano(Instrument):\n",
        "    def play(self):\n",
        "        print(\"Piano is playing\")\n",
        "\n",
        "instru = Instrument\n",
        "guitar = Guitar\n",
        "piano = Piano\n",
        "\n",
        "instru.play()\n",
        "guitar.play()\n",
        "piano.play()"
      ],
      "metadata": {
        "colab": {
          "base_uri": "https://localhost:8080/",
          "height": 211
        },
        "id": "yvlHz3kmegsl",
        "outputId": "7afebff6-1a8c-4d9d-c065-68968c6808e4"
      },
      "execution_count": 20,
      "outputs": [
        {
          "output_type": "error",
          "ename": "TypeError",
          "evalue": "Instrument.play() missing 1 required positional argument: 'self'",
          "traceback": [
            "\u001b[0;31m---------------------------------------------------------------------------\u001b[0m",
            "\u001b[0;31mTypeError\u001b[0m                                 Traceback (most recent call last)",
            "\u001b[0;32m/tmp/ipython-input-3252146344.py\u001b[0m in \u001b[0;36m<cell line: 0>\u001b[0;34m()\u001b[0m\n\u001b[1;32m     16\u001b[0m \u001b[0mpiano\u001b[0m \u001b[0;34m=\u001b[0m \u001b[0mPiano\u001b[0m\u001b[0;34m\u001b[0m\u001b[0;34m\u001b[0m\u001b[0m\n\u001b[1;32m     17\u001b[0m \u001b[0;34m\u001b[0m\u001b[0m\n\u001b[0;32m---> 18\u001b[0;31m \u001b[0minstru\u001b[0m\u001b[0;34m.\u001b[0m\u001b[0mplay\u001b[0m\u001b[0;34m(\u001b[0m\u001b[0;34m)\u001b[0m\u001b[0;34m\u001b[0m\u001b[0;34m\u001b[0m\u001b[0m\n\u001b[0m\u001b[1;32m     19\u001b[0m \u001b[0mguitar\u001b[0m\u001b[0;34m.\u001b[0m\u001b[0mplay\u001b[0m\u001b[0;34m(\u001b[0m\u001b[0;34m)\u001b[0m\u001b[0;34m\u001b[0m\u001b[0;34m\u001b[0m\u001b[0m\n\u001b[1;32m     20\u001b[0m \u001b[0mpiano\u001b[0m\u001b[0;34m.\u001b[0m\u001b[0mplay\u001b[0m\u001b[0;34m(\u001b[0m\u001b[0;34m)\u001b[0m\u001b[0;34m\u001b[0m\u001b[0;34m\u001b[0m\u001b[0m\n",
            "\u001b[0;31mTypeError\u001b[0m: Instrument.play() missing 1 required positional argument: 'self'"
          ]
        }
      ]
    },
    {
      "cell_type": "code",
      "source": [
        "# Create a class MathOperations with a class method add_numbers() to add two numbers and a static method subtract_numbers() to subtract two numbers\n",
        "class MathOperations:\n",
        "    @classmethod\n",
        "    def add_numbers(cls, a, b):\n",
        "        return a + b\n",
        "\n",
        "    @staticmethod\n",
        "    def subtract_numbers(a, b):\n",
        "        return a - b\n",
        "\n",
        "print(\"Addition:\", MathOperations.add_numbers(150, 50))\n",
        "print(\"Subtraction:\", MathOperations.subtract_numbers(150, 50))"
      ],
      "metadata": {
        "colab": {
          "base_uri": "https://localhost:8080/"
        },
        "id": "pMGagafHfzKH",
        "outputId": "de64a2f9-58b8-4794-9f83-dd4078a34485"
      },
      "execution_count": 21,
      "outputs": [
        {
          "output_type": "stream",
          "name": "stdout",
          "text": [
            "Addition: 200\n",
            "Subtraction: 100\n"
          ]
        }
      ]
    },
    {
      "cell_type": "code",
      "source": [
        "# Implement a class Person with a class method to count the total number of persons created.\n",
        "class Person:\n",
        "    count = 0\n",
        "\n",
        "    def __init__(self, name):\n",
        "        self.name = name\n",
        "        Person.count += 1\n",
        "\n",
        "    @classmethod\n",
        "    def get_person_count(cls):\n",
        "        return cls.count\n",
        "\n",
        "p1 = Person(\"Shubham\")\n",
        "p2 = Person(\"Vijay\")\n",
        "p3 = Person(\"Ajay\")\n",
        "\n",
        "print(\"Total persons:\", Person.get_person_count())"
      ],
      "metadata": {
        "colab": {
          "base_uri": "https://localhost:8080/"
        },
        "id": "JjASePJ9gTuA",
        "outputId": "fa62d98a-1d48-4733-9550-620ce3be67fc"
      },
      "execution_count": 22,
      "outputs": [
        {
          "output_type": "stream",
          "name": "stdout",
          "text": [
            "Total persons: 3\n"
          ]
        }
      ]
    },
    {
      "cell_type": "code",
      "source": [
        "# Write a class Fraction with attributes numerator and denominator. Override the str method to display the fraction as \"numerator/denominator\"\n",
        "class Fraction:\n",
        "    def __init__(self, numerator, denominator):\n",
        "        self.numerator = numerator\n",
        "        self.denominator = denominator\n",
        "\n",
        "    def __str__(self):\n",
        "        return f\"{self.numerator/self.denominator}\"\n",
        "\n",
        "f1 = Fraction(8, 4)\n",
        "f2 = Fraction(12, 2)\n",
        "\n",
        "print(f1)\n",
        "print(f2)"
      ],
      "metadata": {
        "colab": {
          "base_uri": "https://localhost:8080/"
        },
        "id": "8O3s1pWug8GM",
        "outputId": "83749318-2b2d-4f3e-c1e4-d6cf420a5786"
      },
      "execution_count": 37,
      "outputs": [
        {
          "output_type": "stream",
          "name": "stdout",
          "text": [
            "2.0\n",
            "6.0\n"
          ]
        }
      ]
    },
    {
      "cell_type": "code",
      "source": [
        "# Demonstrate operator overloading by creating a class Vector and overriding the add method to add two vectors.\n",
        "class Vector:\n",
        "    def __init__(self, x, y):\n",
        "        self.x = x\n",
        "        self.y = y\n",
        "\n",
        "    def __add__(self, other):\n",
        "        return Vector(self.x + other.x, self.y + other.y)\n",
        "\n",
        "    def __str__(self):\n",
        "        return f\"({self.x}, {self.y})\"\n",
        "\n",
        "v1 = Vector(6, 3)\n",
        "v2 = Vector(20, 5)\n",
        "\n",
        "v3 = v1 + v2\n",
        "\n",
        "print(\"v1:\", v1)\n",
        "print(\"v2:\", v2)\n",
        "print(\"v1 + v2 =\", v3)"
      ],
      "metadata": {
        "colab": {
          "base_uri": "https://localhost:8080/"
        },
        "id": "1KdX9s-9iakX",
        "outputId": "24bb9c61-0249-454b-f998-d478b0f93de7"
      },
      "execution_count": 33,
      "outputs": [
        {
          "output_type": "stream",
          "name": "stdout",
          "text": [
            "v1: (6, 3)\n",
            "v2: (20, 5)\n",
            "v1 + v2 = (26, 8)\n"
          ]
        }
      ]
    },
    {
      "cell_type": "code",
      "source": [
        "# Create a class Person with attributes name and age. Add a method greet() that prints \"Hello, my name is {name} and I am {age} years old\n",
        "class Person:\n",
        "    def __init__(self, name, age):\n",
        "        self.name = name\n",
        "        self.age = age\n",
        "\n",
        "    def greet(self):\n",
        "        print(f\"Hello, my name is {self.name} and I am {self.age} years old.\")\n",
        "\n",
        "p = Person(\"Shubham\", 25)\n",
        "p.greet()"
      ],
      "metadata": {
        "colab": {
          "base_uri": "https://localhost:8080/"
        },
        "id": "qDr7fHf0jqFS",
        "outputId": "495c4f2c-40b5-493a-b9a8-17e9bf69641e"
      },
      "execution_count": 38,
      "outputs": [
        {
          "output_type": "stream",
          "name": "stdout",
          "text": [
            "Hello, my name is Shubham and I am 25 years old.\n"
          ]
        }
      ]
    },
    {
      "cell_type": "code",
      "source": [
        "# Implement a class Student with attributes name and grades. Create a method average_grade() to compute the average of the grades.\n",
        "class Student:\n",
        "    def __init__(self, name, grades):\n",
        "        self.name = name\n",
        "        self.grades = grades\n",
        "\n",
        "    def average_grade(self):\n",
        "        return sum(self.grades) / len(self.grades)\n",
        "\n",
        "S = Student (\"Shubham\", [100, 90, 50])\n",
        "print(f\"{S.name}'s average grades:\", S.average_grade())\n"
      ],
      "metadata": {
        "colab": {
          "base_uri": "https://localhost:8080/"
        },
        "id": "N00ZAsCYkGaE",
        "outputId": "d064358d-400a-405c-df67-171c93621dcb"
      },
      "execution_count": 46,
      "outputs": [
        {
          "output_type": "stream",
          "name": "stdout",
          "text": [
            "Shubham's average grades: 80.0\n"
          ]
        }
      ]
    },
    {
      "cell_type": "code",
      "source": [
        "# Create a class Rectangle with methods set_dimensions() to set the dimensions and area() to calculate the area.\n",
        "class Rectangle:\n",
        "    def __init__(self):\n",
        "        self.length = 0\n",
        "        self.width = 0\n",
        "\n",
        "    def set_dimensions(self, length, width):\n",
        "        self.length = length\n",
        "        self.width = width\n",
        "\n",
        "    def area(self):\n",
        "        return self.length * self.width\n",
        "\n",
        "rect = Rectangle()\n",
        "rect.set_dimensions(10, 25)\n",
        "print(\"Area of rectangle:\", rect.area())"
      ],
      "metadata": {
        "colab": {
          "base_uri": "https://localhost:8080/"
        },
        "id": "7rSDAghdmGu6",
        "outputId": "f27bdda4-73a3-4a6e-c3b2-f172863515c3"
      },
      "execution_count": 47,
      "outputs": [
        {
          "output_type": "stream",
          "name": "stdout",
          "text": [
            "Area of rectangle: 250\n"
          ]
        }
      ]
    },
    {
      "cell_type": "code",
      "source": [
        "# Create a class Employee with a method calculate_salary() that computes the salary based on hours worked and hourly rate. Create a derived class Manager that adds a bonus to the salary\n",
        "class Employee:\n",
        "    def __init__(self, name, hours_worked, hourly_rate):\n",
        "        self.name = name\n",
        "        self.hours_worked = hours_worked\n",
        "        self.hourly_rate = hourly_rate\n",
        "\n",
        "    def calculate_salary(self):\n",
        "        return self.hours_worked * self.hourly_rate\n",
        "\n",
        "class Manager(Employee):\n",
        "    def __init__(self, name, hours_worked, hourly_rate, bonus):\n",
        "        super().__init__(name, hours_worked, hourly_rate)\n",
        "        self.bonus = bonus\n",
        "\n",
        "    def calculate_salary(self):\n",
        "         base_salary = super().calculate_salary()\n",
        "         return base_salary + self.bonus\n",
        "\n",
        "mgr = Manager(\"Shubh\", 45, 30, 500)\n",
        "print(f\"{mgr.name}'s Salary: ${mgr.calculate_salary()}\")"
      ],
      "metadata": {
        "colab": {
          "base_uri": "https://localhost:8080/"
        },
        "id": "nQ6DC5fYmgTz",
        "outputId": "234def31-49a5-49d0-9269-59ea933694ad"
      },
      "execution_count": 48,
      "outputs": [
        {
          "output_type": "stream",
          "name": "stdout",
          "text": [
            "Shubh's Salary: $1850\n"
          ]
        }
      ]
    },
    {
      "cell_type": "code",
      "source": [
        "# Create a class Product with attributes name, price, and quantity. Implement a method total_price() that calculates the total price of the product.\n",
        "class Product:\n",
        "    def __init__(self, name, price, quantity):\n",
        "        self.name = name\n",
        "        self.price = price\n",
        "        self.quantity = quantity\n",
        "\n",
        "    def total_price(self):\n",
        "        return self.price * self.quantity\n",
        "A = Product(\"Mobile\", 25000, 10)\n",
        "print(f\"{A.name}'s total price is RS.\",A.total_price())\n",
        "\n",
        "\n",
        "\n"
      ],
      "metadata": {
        "colab": {
          "base_uri": "https://localhost:8080/"
        },
        "id": "YyjwoKeQoTHI",
        "outputId": "5a0a8696-07a1-4eb2-a0e3-885470303007"
      },
      "execution_count": 53,
      "outputs": [
        {
          "output_type": "stream",
          "name": "stdout",
          "text": [
            "Mobile's total price is RS. 250000\n"
          ]
        }
      ]
    },
    {
      "cell_type": "code",
      "source": [
        "# Create a class Animal with an abstract method sound(). Create two derived classes Cow and Sheep that implement the sound() method.\n",
        "from abc import ABC, abstractmethod\n",
        "\n",
        "class Animal(ABC):\n",
        "    @abstractmethod\n",
        "    def sound(self):\n",
        "        pass\n",
        "\n",
        "class Cow(Animal):\n",
        "    def sound(self):\n",
        "        return \"Moo\"\n",
        "\n",
        "class Sheep(Animal):\n",
        "    def sound(self):\n",
        "        return \"Meee\"\n",
        "\n",
        "cow = Cow()\n",
        "sheep = Sheep()\n",
        "\n",
        "print(\"Cow sound:\", cow.sound())\n",
        "print(\"Sheep sound:\", sheep.sound())"
      ],
      "metadata": {
        "colab": {
          "base_uri": "https://localhost:8080/"
        },
        "id": "kSNOiWwGpSxR",
        "outputId": "b3dbbe7a-c3ba-4a03-f308-9e80d2f5ac71"
      },
      "execution_count": 54,
      "outputs": [
        {
          "output_type": "stream",
          "name": "stdout",
          "text": [
            "Cow sound: Moo\n",
            "Sheep sound: Meee\n"
          ]
        }
      ]
    },
    {
      "cell_type": "code",
      "source": [
        "# Create a class Book with attributes title, author, and year_published. Add a method get_book_info() that returns a formatted string with the book's details\n",
        "class Book:\n",
        "    def __init__(self, title, author, year_published):\n",
        "        self.title = title\n",
        "        self.author = author\n",
        "        self.year_published = year_published\n",
        "\n",
        "    def get_book_info(self):\n",
        "        return f\"'{self.title}' by {self.author}, published in {self.year_published}\"\n",
        "\n",
        "\n",
        "# Usage\n",
        "book = Book(\"Revolution 2020\", \"Chetan Bhagat\", 2012)\n",
        "print(book.get_book_info())\n",
        ""
      ],
      "metadata": {
        "colab": {
          "base_uri": "https://localhost:8080/"
        },
        "id": "V79KON27pxaP",
        "outputId": "d4933171-ab59-414b-e03e-637aff362ad9"
      },
      "execution_count": 58,
      "outputs": [
        {
          "output_type": "stream",
          "name": "stdout",
          "text": [
            "'Revolution 2020' by Chetan Bhagat, published in 2012\n"
          ]
        }
      ]
    },
    {
      "cell_type": "code",
      "source": [
        "# Create a class House with attributes address and price. Create a derived class Mansion that adds an attribute number_of_rooms.\n",
        "class House:\n",
        "    def __init__(self, address, price):\n",
        "        self.address = address\n",
        "        self.price = price\n",
        "\n",
        "    def get_info(self):\n",
        "        return f\"House at {self.address}, Price: ₹{self.price}\"\n",
        "\n",
        "class Mansion(House):\n",
        "    def __init__(self, address, price, number_of_rooms):\n",
        "        super().__init__(address, price)\n",
        "        self.number_of_rooms = number_of_rooms\n",
        "\n",
        "    def get_info(self):\n",
        "        return f\"Mansion at {self.address}, Price: ₹{self.price}, Rooms: {self.number_of_rooms}\"\n",
        "\n",
        "house1 = House(\"123 SV road\", 25000000)\n",
        "mansion1 = Mansion(\"4/5 Atharv chs\", 100000000, 7)\n",
        "\n",
        "print(house1.get_info())\n",
        "print(mansion1.get_info())"
      ],
      "metadata": {
        "colab": {
          "base_uri": "https://localhost:8080/"
        },
        "id": "gmLBvK98qx9P",
        "outputId": "b9d945b3-c61d-4eca-c7d9-cb616b8a86a1"
      },
      "execution_count": 59,
      "outputs": [
        {
          "output_type": "stream",
          "name": "stdout",
          "text": [
            "House at 123 SV road, Price: ₹25000000\n",
            "Mansion at 4/5 Atharv chs, Price: ₹100000000, Rooms: 7\n"
          ]
        }
      ]
    }
  ]
}